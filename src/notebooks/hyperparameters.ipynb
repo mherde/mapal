{
 "cells": [
  {
   "cell_type": "markdown",
   "metadata": {},
   "source": [
    "# Hyperparameters of MaPAL"
   ]
  },
  {
   "cell_type": "code",
   "execution_count": 1,
   "metadata": {},
   "outputs": [
    {
     "data": {
      "text/html": [
       "<style>.container { width:100% !important; }</style>"
      ],
      "text/plain": [
       "<IPython.core.display.HTML object>"
      ]
     },
     "metadata": {},
     "output_type": "display_data"
    }
   ],
   "source": [
    "from IPython.core.display import display, HTML\n",
    "display(HTML(\"<style>.container { width:100% !important; }</style>\"))\n",
    "\n",
    "# import required packages\n",
    "import sys\n",
    "sys.path.append('../../')\n",
    "\n",
    "import numpy as np\n",
    "import pandas as pd\n",
    "import matplotlib.pyplot as plt\n",
    "\n",
    "from src.utils.statistic_functions import read_results, compute_aulc_ranks, extract_execution_times, compute_statistics\n",
    "from src.utils.data_functions import investigate_data_set\n",
    "from src.utils.plot_functions import plot_aulc_ranks, plot_learning_curves, create_latex_table\n",
    "\n",
    "from matplotlib import rc\n",
    "#rc('text', usetex=True)\n",
    "#rc('font', family='serif')\n",
    "rc('axes', edgecolor=\"black\")"
   ]
  },
  {
   "cell_type": "markdown",
   "metadata": {},
   "source": [
    "If you have conducted all experiments on the toy data set according to the description in the README, you can simply execute the cells below."
   ]
  },
  {
   "cell_type": "code",
   "execution_count": 11,
   "metadata": {},
   "outputs": [
    {
     "data": {
      "image/png": "[encoded data removed]",
      "text/plain": [
       "<Figure size 288x288 with 1 Axes>"
      ]
     },
     "metadata": {
      "needs_background": "light"
     },
     "output_type": "display_data"
    }
   ],
   "source": [
    "budget = 200.0\n",
    "test_ratio = 0.8\n",
    "fontsize = 23\n",
    "n_repeats = 100\n",
    "n_annotators = 4\n",
    "dir_learning = '../../results/simulated-x/learning-curves/simulated-x'\n",
    "abs_path = '../../results/simulated-x/csvs'\n",
    "filename_list = ['mapal-1-0.0001-1-1-entropy', 'mapal-1-0.0001-2-1-entropy', 'mapal-1-0.0001-3-1-entropy']\n",
    "strategy_df = {\n",
    "               'name': [r'$M_{\\mathrm{max}}=1$', r'$M_{\\mathrm{max}}=2$', r'$M_{\\mathrm{max}}=3$'],\n",
    "               'color': ['#9b59b6', '#3498db', '#e74c3c'],\n",
    "               'line': ['-', '-', '-']\n",
    "              }\n",
    "strategy_df = pd.DataFrame(strategy_df, index=filename_list)\n",
    "results_dict = read_results(abs_path=abs_path, data_set_names=['large-example-data-set-x'], \n",
    "                            strategy_names=strategy_df.index.values, budget=budget, test_ratio=test_ratio, n_annotators=n_annotators)\n",
    "plt.figure(figsize=(4, 4))\n",
    "for d in results_dict.keys():\n",
    "    for q in results_dict[d].keys():\n",
    "            stats_dict = pd.DataFrame(compute_statistics(results_dict[d][q]))\n",
    "            x = np.arange(0, budget+1)\n",
    "            y = stats_dict['test-misclf-rate-mean'].values\n",
    "            err = stats_dict['test-misclf-rate-std'].values\n",
    "            plt.errorbar(x=x, y=y, yerr=err/np.sqrt(n_repeats), errorevery=2, color=strategy_df.loc[q]['color'],\n",
    "                         label=strategy_df.loc[q]['name'], ls=strategy_df.loc[q]['line'], lw=2, elinewidth=1)\n",
    "plt.xlabel('total no.~of annotations', color='black', fontsize=fontsize)\n",
    "plt.xticks(fontsize=15)\n",
    "plt.yticks(fontsize=15)\n",
    "plt.ylabel('test misclf.~rate', color='black', fontsize=fontsize)\n",
    "plt.ylim(0.1, 0.3)\n",
    "plt.legend(prop={'size': 15}, handlelength=1.5)\n",
    "plt.tight_layout()\n",
    "plt.savefig('../../plots/M-study.pdf')"
   ]
  },
  {
   "cell_type": "code",
   "execution_count": 10,
   "metadata": {},
   "outputs": [
    {
     "name": "stdout",
     "output_type": "stream",
     "text": [
      "[0.5, 1.5, 2.5, 3.5]\n"
     ]
    },
    {
     "data": {
      "image/png": "[encoded data removed]",
      "text/plain": [
       "<Figure size 288x288 with 1 Axes>"
      ]
     },
     "metadata": {
      "needs_background": "light"
     },
     "output_type": "display_data"
    }
   ],
   "source": [
    "budget = 200.0\n",
    "test_ratio = 0.8\n",
    "fontsize = 23\n",
    "n_annotators = 4\n",
    "dir_learning = '../../results/simulated-x/learning-curves/simulated-x'\n",
    "abs_path = '../../results/simulated-x/csvs'\n",
    "filename_list = ['mapal-1-1.0-2-1-entropy', 'mapal-1-0.01-2-1-entropy', 'mapal-1-0.0001-2-1-entropy']\n",
    "strategy_df = {\n",
    "               'name': [r'$\\beta_0=1$', r'$\\beta_0=10^{-2}$', r'$\\beta_0=10^{-4}$'],\n",
    "               'color': ['#95a5a6', '#34495e', '#2ecc71'],\n",
    "               'line': ['-', '--', ':']\n",
    "              }\n",
    "strategy_df = pd.DataFrame(strategy_df, index=filename_list)\n",
    "results_dict = read_results(abs_path=abs_path, data_set_names=['large-example-data-set-x'], \n",
    "                            strategy_names=strategy_df.index.values, budget=budget, test_ratio=test_ratio, n_annotators=n_annotators)\n",
    "Y_true = []\n",
    "Y_false = []\n",
    "E_true = []\n",
    "E_false = []\n",
    "n_queries = 200\n",
    "plt.figure(figsize=(4, 4))\n",
    "for d in results_dict.keys():\n",
    "    for q in results_dict[d].keys():\n",
    "            stats_dict = pd.DataFrame(compute_statistics(results_dict[d][q]))\n",
    "            Y_true.append([stats_dict['n-true-labels-{}-mean'.format(a)].values[n_queries] for a in range(n_annotators)])\n",
    "            Y_false.append([stats_dict['n-false-labels-{}-mean'.format(a)].values[n_queries] for a in range(n_annotators)])\n",
    "            E_true.append([stats_dict['n-true-labels-{}-std'.format(a)].values[n_queries] for a in range(n_annotators)])\n",
    "            E_false.append([stats_dict['n-false-labels-{}-std'.format(a)].values[n_queries] for a in range(n_annotators)])\n",
    "Y_true = np.array(Y_true)\n",
    "Y_false = np.array(Y_false)\n",
    "E_true = np.array(Y_true)\n",
    "E_false = np.array(Y_false)\n",
    "\n",
    "barwidth = 0.25\n",
    "r1 = np.arange(n_annotators)\n",
    "r2 = [x + barwidth for x in r1]\n",
    "r3 = [x + barwidth for x in r2]\n",
    "print(r3)\n",
    "plt.bar(x=r1, height=Y_true[0]+Y_false[0], width=barwidth, color=strategy_df.loc[filename_list[0]]['color'], label=strategy_df.loc[filename_list[0]]['name'], edgecolor='black')\n",
    "plt.bar(x=r2, height=Y_true[1]+Y_false[1], width=barwidth, color=strategy_df.loc[filename_list[1]]['color'], label=strategy_df.loc[filename_list[1]]['name'], edgecolor='black')\n",
    "plt.bar(x=r3, height=Y_true[2]+Y_false[2], width=barwidth, color=strategy_df.loc[filename_list[2]]['color'], label=strategy_df.loc[filename_list[2]]['name'], edgecolor='black')\n",
    "plt.xticks([r + barwidth for r in range(n_annotators)], [r'$a_{}$'.format(a) for a in range(1, n_annotators+1)], fontsize=15)\n",
    "plt.yticks(fontsize=15)\n",
    "plt.xlabel('annotator', color='black', fontsize=fontsize)\n",
    "plt.ylabel('no. of annotations', color='black', fontsize=fontsize)\n",
    "plt.ylim(0, 1.5 * np.max(np.array(Y_true) + np.array(Y_false)))\n",
    "lgd = plt.legend(prop={'size': 15}, handlelength=0.5, handletextpad=0.2, columnspacing=0.5, loc='upper right')\n",
    "lgd = plt.legend(prop={'size': 15}, handlelength=0.5, handletextpad=0.2, columnspacing=0.5, loc='upper right')\n",
    "#add_patch(lgd)\n",
    "plt.tight_layout()\n",
    "plt.savefig('../../plots/beta-study.pdf')"
   ]
  }
 ],
 "metadata": {
  "kernelspec": {
   "display_name": "Python 3",
   "language": "python",
   "name": "python3"
  },
  "language_info": {
   "codemirror_mode": {
    "name": "ipython",
    "version": 3
   },
   "file_extension": ".py",
   "mimetype": "text/x-python",
   "name": "python",
   "nbconvert_exporter": "python",
   "pygments_lexer": "ipython3",
   "version": "3.7.6"
  }
 },
 "nbformat": 4,
 "nbformat_minor": 4
}
