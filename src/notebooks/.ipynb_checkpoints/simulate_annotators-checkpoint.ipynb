{
 "cells": [
  {
   "cell_type": "markdown",
   "metadata": {},
   "source": [
    "# Annotator Simulation"
   ]
  },
  {
   "cell_type": "code",
   "execution_count": null,
   "metadata": {},
   "outputs": [],
   "source": [
    "# notebook setup\n",
    "from IPython.core.display import display, HTML\n",
    "display(HTML(\"<style>.container { width:100% !important; }</style>\"))\n",
    "import sys\n",
    "sys.path.append('../../')\n",
    "\n",
    "# import required packages\n",
    "import glob\n",
    "import numpy as np\n",
    "import pandas as pd\n",
    "import matplotlib.pyplot as plt\n",
    "from matplotlib import rc\n",
    "#rc('text', usetex=True)\n",
    "#rc('font', family='serif')\n",
    "rc('axes', edgecolor=\"black\")\n",
    "\n",
    "from scipy.spatial import ConvexHull\n",
    "\n",
    "from src.annotlib.cluster_based import ClusterBasedAnnot\n",
    "from src.utils.data_functions import investigate_data_set, load_data, preprocess_2d_data_set\n",
    "from src.utils.plot_functions import plot_simulation\n",
    "\n",
    "from sklearn.datasets import make_blobs, make_classification\n",
    "from sklearn.preprocessing import StandardScaler\n",
    "from sklearn.cluster import KMeans"
   ]
  },
  {
   "cell_type": "markdown",
   "metadata": {
    "pycharm": {
     "name": "#%% md\n"
    }
   },
   "source": [
    "## Simulate Annotators on Real-world Data \n",
    "\n",
    "Run all cells below. As a result, `../../data` will contain .csv files of all data sets. Now, you are able to execute experiments."
   ]
  },
  {
   "cell_type": "code",
   "execution_count": null,
   "metadata": {},
   "outputs": [],
   "source": [
    "# set random seeds\n",
    "np.random.seed(42)\n",
    "random_state = np.random.RandomState(40)\n",
    "\n",
    "# obtain available data sets\n",
    "data_set_names = pd.read_csv('../../data/data_set_ids.csv').name.values\n",
    "\n",
    "# simulation for each data set\n",
    "for d in data_set_names:\n",
    "    print(d)\n",
    "    # load data\n",
    "    X, y_true, y = load_data(d)\n",
    "    n_features = X.shape[1]\n",
    "    n_classes = len(np.unique(y_true))\n",
    "\n",
    "    # standardize features\n",
    "    X_trans = StandardScaler().fit_transform(X)\n",
    "\n",
    "\n",
    "    print('n-features: {}, n-classes: {}'.format(n_features, n_classes))\n",
    "    \n",
    "    for s in ['x', 'o', 'y']:\n",
    "        if s == 'x':\n",
    "            # simulate annotators with instance-dependent performance values\n",
    "            n_annotators = np.random.choice([4, 5, 6])\n",
    "            y_cluster_k_means = KMeans(n_clusters=n_annotators, n_init=50, random_state=6).fit_predict(X_trans)\n",
    "            \n",
    "            U = np.random.uniform(0.8, 1.0, size=2*n_annotators).reshape(n_annotators, 2)\n",
    "            E = np.array([np.arange(n_annotators), \n",
    "                          (np.arange(n_annotators)+2)%n_annotators]).reshape((n_annotators, 2))\n",
    "            A = np.random.uniform(1/n_classes, 1/n_classes+0.2, n_annotators**2)\n",
    "            A = A.reshape((n_annotators, n_annotators))\n",
    "            A[np.arange(n_annotators), E[:, 0]] = U[:, 0]\n",
    "            A[np.arange(n_annotators), E[:, 1]] = U[:, 1]\n",
    "            C = np.empty((n_annotators, n_annotators, 2))\n",
    "            C[:, :, 0] = A\n",
    "            C[:, :, 1] = A\n",
    "            annot = ClusterBasedAnnot(X=X_trans, y_true=y_true, y_cluster=y_cluster_k_means, n_annotators=n_annotators,\n",
    "                                      cluster_labelling_acc=C, random_state=6)\n",
    "        elif s == 'y':\n",
    "            # simulate annotators with class-dependent performance values\n",
    "            n_annotators = random_state.choice([4, 5, 6])\n",
    "            A = random_state.uniform(1/n_classes, 1, size=n_annotators*n_classes).reshape((n_annotators, n_classes))\n",
    "            C = np.empty((n_annotators, n_classes, 2))\n",
    "            C[:, :, 0] = A\n",
    "            C[:, :, 1] = A\n",
    "            annot = ClusterBasedAnnot(X=X_trans, y_true=y_true, y_cluster=y_true, n_annotators=n_annotators,\n",
    "                                      cluster_labelling_acc=C, random_state=6)\n",
    "            \n",
    "        elif s == 'o':\n",
    "            # simulate annotators with uniform performance values\n",
    "            n_annotators = np.random.choice([4, 5, 6])\n",
    "            y_cluster_const = np.zeros(len(X), dtype=int)\n",
    "            min_label_acc = 1. / n_classes\n",
    "            label_acc_step = (0.9 - min_label_acc) / (n_annotators + 1)\n",
    "            mean_label_acc = np.linspace(min_label_acc, 0.9 - 2 * label_acc_step, n_annotators)\n",
    "            C = np.empty((n_annotators, 1, 2))\n",
    "            for a in range(n_annotators):\n",
    "                v = np.random.uniform(mean_label_acc[a], mean_label_acc[a] + 2 * label_acc_step)\n",
    "                C[a, :, :] = v\n",
    "            annot = ClusterBasedAnnot(X=X_trans, y_true=y_true, y_cluster=y_cluster_const, n_annotators=n_annotators,\n",
    "                                      cluster_labelling_acc=C, random_state=6)\n",
    "    \n",
    "        # store data set with simulated annotations\n",
    "        data_set = {'x_{}'.format(i): X[:, i] for i in range(X.shape[1])}\n",
    "        data_set['y'] = y_true\n",
    "        for a in range(annot.n_annotators()): \n",
    "            data_set['y_'+str(a+1)] = annot.Y_[:, a]\n",
    "        data_set = pd.DataFrame(data_set)\n",
    "        data_set_name = '{}-simulated-{}'.format(d, s)\n",
    "        filename = '../../data/{}.csv'.format(data_set_name)\n",
    "        is_file_present = glob.glob(filename)\n",
    "        if not is_file_present:\n",
    "            data_set.to_csv(filename, index=False)\n",
    "        print(s+': '+str(investigate_data_set(data_set_name=data_set_name)))"
   ]
  },
  {
   "cell_type": "markdown",
   "metadata": {},
   "source": [
    "## Illustration of Simulation Techniques\n",
    "\n",
    "Run the cells below to get an illustration of the different simulation techniques. "
   ]
  },
  {
   "cell_type": "code",
   "execution_count": null,
   "metadata": {},
   "outputs": [],
   "source": [
    "X, y_true = make_blobs(n_samples=300, n_features=2, centers=12, cluster_std=1, random_state=42)\n",
    "X -= np.mean(X, keepdims=True, axis=0)\n",
    "X /= np.std(X, keepdims=True, axis=0)\n",
    "y_true %= 2\n",
    "n_classes = len(np.unique(y_true))"
   ]
  },
  {
   "cell_type": "markdown",
   "metadata": {},
   "source": [
    "### Example Data Set with Uniform Annotation Performance Values"
   ]
  },
  {
   "cell_type": "code",
   "execution_count": null,
   "metadata": {},
   "outputs": [],
   "source": [
    "np.random.seed(42)\n",
    "n_annotators = 4\n",
    "y_cluster_const = np.zeros(len(X), dtype=int)\n",
    "min_label_acc = 1. / n_classes\n",
    "label_acc_step = (0.9 - min_label_acc) / (n_annotators + 1)\n",
    "mean_label_acc = np.linspace(min_label_acc, 0.9 - 2 * label_acc_step, n_annotators)\n",
    "C = np.empty((n_annotators, 1, 2))\n",
    "for a in range(n_annotators):\n",
    "    v = np.random.uniform(mean_label_acc[a], mean_label_acc[a] + 2 * label_acc_step)\n",
    "    C[a, :, :] = v\n",
    "print(C)\n",
    "annot = ClusterBasedAnnot(X=X, y_true=y_true, y_cluster=y_cluster_const, n_annotators=n_annotators,\n",
    "                          cluster_labelling_acc=C, random_state=0)\n",
    "\n",
    "# save data set\n",
    "data_set = {'x_{}'.format(i): X[:, i] for i in range(X.shape[1])}\n",
    "data_set['y'] = y_true\n",
    "for a in range(annot.n_annotators()): \n",
    "    data_set['y_'+str(a+1)] = annot.Y_[:, a]\n",
    "data_set = pd.DataFrame(data_set)\n",
    "data_set_name = 'example-data-set-o'\n",
    "filename = '../../data/{}.csv'.format(data_set_name)\n",
    "data_set.to_csv(filename, index=False)\n",
    "fig = plot_simulation(X=X, y_true=y_true, y=annot.Y_, figsize=(24, 12), fontsize=30,\n",
    "                      filename='../../plots/simulated-o', filetype='svg')"
   ]
  },
  {
   "cell_type": "markdown",
   "metadata": {},
   "source": [
    "### Example Data Set with Class-dependent Annotation Performance Values"
   ]
  },
  {
   "cell_type": "code",
   "execution_count": null,
   "metadata": {},
   "outputs": [],
   "source": [
    "np.random.seed(42)\n",
    "n_annotators = 4\n",
    "y_cluster_const = np.zeros(len(X), dtype=int)\n",
    "A = np.random.uniform(1/n_classes, 1, size=n_annotators*n_classes).reshape((n_annotators, n_classes))\n",
    "C = np.empty((n_annotators, n_classes, 2))\n",
    "C[:, :, 0] = A\n",
    "C[:, :, 1] = A\n",
    "annot = ClusterBasedAnnot(X=X, y_true=y_true, y_cluster=y_true, n_annotators=n_annotators,\n",
    "                          cluster_labelling_acc=C, random_state=0)\n",
    "print(C[:, :, 0])\n",
    "\n",
    "# save data set\n",
    "data_set = {'x_{}'.format(i): X[:, i] for i in range(X.shape[1])}\n",
    "data_set['y'] = y_true\n",
    "for a in range(annot.n_annotators()): \n",
    "    data_set['y_'+str(a+1)] = annot.Y_[:, a]\n",
    "data_set = pd.DataFrame(data_set)\n",
    "data_set_name = 'example-data-set-y'\n",
    "filename = '../../data/{}.csv'.format(data_set_name)\n",
    "data_set.to_csv(filename, index=False)\n",
    "fig = plot_simulation(X=X, y_true=y_true, y=annot.Y_, figsize=(24, 12), fontsize=30,\n",
    "                      filename='../../plots/simulated-y', filetype='svg')"
   ]
  },
  {
   "cell_type": "markdown",
   "metadata": {
    "pycharm": {
     "name": "#%% md\n"
    }
   },
   "source": [
    "### Example Data Set with Instance-dependent Annotion Performance Values"
   ]
  },
  {
   "cell_type": "code",
   "execution_count": null,
   "metadata": {
    "collapsed": false,
    "jupyter": {
     "outputs_hidden": false
    },
    "pycharm": {
     "is_executing": false,
     "name": "#%%\n"
    }
   },
   "outputs": [],
   "source": [
    "np.random.seed(42)\n",
    "n_annotators = 4\n",
    "y_cluster_k_means = KMeans(n_clusters=n_annotators, n_init=50, random_state=0).fit_predict(X)\n",
    "print(np.unique(y_cluster_k_means, return_counts=True))\n",
    "\n",
    "U = np.random.uniform(0.8, 1.0, size=2*n_annotators).reshape(n_annotators, 2)\n",
    "E = np.array([np.arange(n_annotators), \n",
    "              (np.arange(n_annotators)+2)%n_annotators]).reshape((n_annotators, 2))\n",
    "A = np.random.uniform(1/n_classes, 1/n_classes+0.2, n_annotators**2)\n",
    "A = A.reshape((n_annotators, n_annotators))\n",
    "A[np.arange(n_annotators), E[:, 0]] = U[:, 0]\n",
    "A[np.arange(n_annotators), E[:, 1]] = U[:, 1]\n",
    "C = np.empty((n_annotators, n_annotators, 2))\n",
    "C[:, :, 0] = A\n",
    "C[:, :, 1] = A\n",
    "print(C[:, :, 0])\n",
    "print(np.unique(y_cluster_k_means, return_counts=True))\n",
    "\n",
    "# simulate annotators\n",
    "annot = ClusterBasedAnnot(X=X, y_true=y_true, y_cluster=y_cluster_k_means, n_annotators=n_annotators, \n",
    "                          cluster_labelling_acc=C, random_state=0)\n",
    "\n",
    "# save data set\n",
    "data_set = {'x_{}'.format(i): X[:, i] for i in range(X.shape[1])}\n",
    "data_set['y'] = y_true\n",
    "for a in range(annot.n_annotators()): \n",
    "    data_set['y_'+str(a+1)] = annot.Y_[:, a]\n",
    "data_set = pd.DataFrame(data_set)\n",
    "data_set_name = 'example-data-set-x'\n",
    "filename = '../../data/{}.csv'.format(data_set_name)\n",
    "data_set.to_csv(filename, index=False)\n",
    "fig = plot_simulation(X=X, y_true=y_true, y=annot.Y_, figsize=(24, 12), fontsize=30,\n",
    "                      filename='../../plots/simulated-x', filetype='svg', y_cluster=y_cluster_k_means)"
   ]
  }
 ],
 "metadata": {
  "kernelspec": {
   "display_name": "Python 3",
   "language": "python",
   "name": "python3"
  },
  "language_info": {
   "codemirror_mode": {
    "name": "ipython",
    "version": 3
   },
   "file_extension": ".py",
   "mimetype": "text/x-python",
   "name": "python",
   "nbconvert_exporter": "python",
   "pygments_lexer": "ipython3",
   "version": "3.7.6"
  }
 },
 "nbformat": 4,
 "nbformat_minor": 4
}
