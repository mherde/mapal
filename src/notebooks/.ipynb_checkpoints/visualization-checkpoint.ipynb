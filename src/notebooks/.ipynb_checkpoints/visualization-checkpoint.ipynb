{
 "cells": [
  {
   "cell_type": "markdown",
   "metadata": {},
   "source": [
    "# Visualization"
   ]
  },
  {
   "cell_type": "code",
   "execution_count": null,
   "metadata": {
    "pycharm": {
     "is_executing": false
    }
   },
   "outputs": [],
   "source": [
    "from IPython.core.display import display, HTML\n",
    "display(HTML(\"<st1yle>.container { width:100% !important; }</style>\"))\n",
    "\n",
    "import sys\n",
    "sys.path.append('../../')\n",
    "\n",
    "import numpy as np\n",
    "\n",
    "from copy import deepcopy\n",
    "\n",
    "from src.models.beta_annotators_model import BAM\n",
    "from src.query_strategies.multi_annotator_probabilistic_active_learning import xpal_gain\n",
    "from src.utils.plot_functions import plot_scores_2d\n",
    "from src.utils.data_functions import preprocess_2d_data_set\n",
    "from src.utils.mathematical_functions import compute_vote_vectors\n",
    "from src.base.data_set import DataSet\n",
    "from src.annotlib.standard import StandardAnnot\n",
    "from src.query_strategies.multi_annotator_probabilistic_active_learning import MAPAL\n",
    "\n",
    "from sklearn.metrics import pairwise_kernels\n",
    "\n",
    "from matplotlib import rc\n",
    "#rc('text', usetex=True)\n",
    "#rc('font', family='serif')\n",
    "rc('axes', edgecolor=\"black\")"
   ]
  },
  {
   "cell_type": "markdown",
   "metadata": {},
   "source": [
    "In this notebook, you can reproduce the annotation performance and instance utility plots by executing the cells below.\n",
    "Remak: Before you can do this, you should have executed the notebook for simulating annotators."
   ]
  },
  {
   "cell_type": "code",
   "execution_count": null,
   "metadata": {
    "collapsed": false,
    "jupyter": {
     "outputs_hidden": false
    },
    "pycharm": {
     "is_executing": false,
     "name": "#%%\n"
    }
   },
   "outputs": [],
   "source": [
    "def al_cylce(X, y, budgets, gamma, m_max=1, prior_mean=1, sum_prior=1, alpha=1, random_state=1):\n",
    "    n_samples = len(X)\n",
    "    n_annotators = y.shape[1]\n",
    "    data_set = DataSet(X, n_annotators=n_annotators)\n",
    "    annotators = StandardAnnot(X=X, Y=y)\n",
    "    S = pairwise_kernels(X, X, metric='rbf', gamma=gamma)\n",
    "    if sum_prior == 'mean':\n",
    "        sum_prior = (np.sum(S)-n_samples)/(n_samples**2-n_samples)\n",
    "    else:\n",
    "        sum_prior = float(sum_prior)\n",
    "    prior = np.array([prior_mean, 1 - prior_mean])\n",
    "    prior *= sum_prior\n",
    "    bam = BAM(n_classes=n_classes, metric='rbf', weights_type='entropy', gamma=gamma, prior=prior, random_state=random_state)\n",
    "    query_strategy = MAPAL(data_set=data_set, n_classes=n_classes, m_max=m_max, S=S,\n",
    "                           alpha_x=alpha, alpha_c=alpha, bam=bam, random_state=random_state)\n",
    "    \n",
    "    data_sets = []\n",
    "    \n",
    "    for b in range(1, np.max(budgets)+1):\n",
    "        print(\"budget: {}\".format(b))\n",
    "        # select sample and annotator\n",
    "        selection = query_strategy.make_query()\n",
    "        sample_id = selection[0, 0]\n",
    "        annotator_id = [selection[0, 1]]\n",
    "        print(\"selected sample: {}\".format(sample_id))\n",
    "        print(\"selected annotator: {}\".format(annotator_id))\n",
    "\n",
    "        # query selected annotator for labeling selected sample\n",
    "        X_query = [X[sample_id]]\n",
    "        y_query = annotators.class_labels(X_query, annotator_ids=annotator_id)\n",
    "        print('class label: {}'.format(y_query[0, annotator_id[0]]))\n",
    "\n",
    "        # update training data\n",
    "        data_set.update_entries(sample_id, y_query)\n",
    "        \n",
    "        if b in budgets:\n",
    "            data_sets.append(deepcopy(data_set))\n",
    "            \n",
    "    \n",
    "    return data_sets, prior"
   ]
  },
  {
   "cell_type": "markdown",
   "metadata": {
    "pycharm": {
     "name": "#%% md\n"
    }
   },
   "source": [
    "## Multi-annotator Probabilistic Active Learning (MaPAL)\n",
    "You can adjust the parameters of MaPAL by chaning `m_max` and `beta_0`."
   ]
  },
  {
   "cell_type": "code",
   "execution_count": null,
   "metadata": {
    "pycharm": {
     "is_executing": false,
     "name": "#%%\n"
    }
   },
   "outputs": [],
   "source": [
    "# plot setup\n",
    "figsize = (24, 12)\n",
    "fontsize = 30\n",
    "\n",
    "# load data set\n",
    "data_set_name = 'example-data-set-x'\n",
    "X, y_true, y, X_1_mesh, X_2_mesh, mesh_instances, gamma = preprocess_2d_data_set(data_set_name=data_set_name)\n",
    "n_samples = np.size(X, axis=0)\n",
    "n_annotators = np.size(y, axis=1)\n",
    "n_classes = np.size(np.unique(y_true), axis=0)\n",
    "\n",
    "# parameter setup\n",
    "prior_mean = 1.0\n",
    "m_max = 1\n",
    "beta_0 = 0.0001\n",
    "alpha = 1\n",
    "budgets = [10, 50, 100]\n",
    "\n",
    "# execute learning cycle\n",
    "data_set_list, prior = al_cylce(X=X, y=y, gamma=gamma, m_max=m_max, prior_mean=prior_mean, alpha=alpha, \n",
    "                                budgets=budgets, random_state=42, sum_prior=beta_0)\n",
    "\n",
    "# precompute similarity matrices\n",
    "S = pairwise_kernels(X, X, metric='rbf', gamma=gamma)\n",
    "S_mesh = pairwise_kernels(mesh_instances, X, metric='rbf', gamma=gamma)\n",
    "\n",
    "for b, data_set in zip(budgets, data_set_list):\n",
    "    # storages\n",
    "    scores = []\n",
    "    scores_bam = []\n",
    "    P = []\n",
    "    labeled = [data_set.get_labeled_indices(annotator_id=a) for a in range(data_set.n_annotators_)]\n",
    "    unlabeled = [data_set.get_unlabeled_indices(annotator_id=a) for a in range(data_set.n_annotators_)]\n",
    "    \n",
    "    # fit bam and predict annotation performance values\n",
    "    bam = BAM(n_classes=n_classes, metric='rbf', gamma=gamma, prior=prior, random_state=1)\n",
    "    bam.fit(X=data_set.X_, y=data_set.y_)\n",
    "    A = bam.predict_proba(mesh_instances).T\n",
    "    A = A[0]\n",
    "    \n",
    "    # compute frequency estimates for evaluation set (K_x) and candidate set (K_c)\n",
    "    Z = compute_vote_vectors(y=data_set.y_, c=data_set.c_, n_unique_votes=n_classes, probabilistic=False)\n",
    "    K_x = S @ Z\n",
    "    \n",
    "    # compute probabilities of classification model\n",
    "    P_a = S_mesh @ Z \n",
    "    P_a = P_a/np.sum(P_a, axis=1, keepdims=True)\n",
    "    P_a = P_a[:, 0].reshape(X_1_mesh.shape)\n",
    "    P_annnotators = []\n",
    "    \n",
    "    K_c = np.empty((data_set.n_annotators_, len(mesh_instances), n_classes))\n",
    "    for a in range(data_set.n_annotators_):\n",
    "        Z_a = compute_vote_vectors(y=data_set.y_[:, a], n_unique_votes=n_classes)\n",
    "        K_c[a] = (S_mesh @ Z_a)\n",
    "    \n",
    "    # compute scores per annotator\n",
    "    for a in range(n_annotators):\n",
    "        scores_bam.append(A[:, a].reshape(X_1_mesh.shape))\n",
    "        P.append(P_a)\n",
    "        Z = compute_vote_vectors(y=data_set.y_[:, a],  n_unique_votes=n_classes)\n",
    "        mask = list(range(n_annotators))\n",
    "        mask.remove(a)\n",
    "        Z_mask = compute_vote_vectors(y=data_set.y_[:, mask],  n_unique_votes=n_classes)\n",
    "        P_z = (S_mesh @ Z_mask)\n",
    "        P_z /= np.sum(P_z, axis=1, keepdims=True)\n",
    "        P_z = P_z[:, 0].reshape(X_1_mesh.shape)\n",
    "        P_annnotators.append(P_z)\n",
    "        A_sample_a = A.copy()\n",
    "        A_sample_a[:, a] = 100\n",
    "        annotator_indices = np.argsort(-A_sample_a, axis=1)[:, :m_max]\n",
    "        A_a = np.array([A[np.arange(len(mesh_instances)), annotator_indices[:, a]] for a in range(m_max)]).T\n",
    "        K_c_a = np.array([K_c[annotator_indices[:, a], np.arange(len(mesh_instances))] for a in range(m_max)])\n",
    "        scores_a = xpal_gain(K_c=K_c_a, K_x=K_x, S=S_mesh, A=A_a, alpha_x=alpha, alpha_c=alpha)\n",
    "        scores.append(scores_a.reshape(X_1_mesh.shape))\n",
    "    \n",
    "    scores = np.array(scores)\n",
    "    scores = (scores - np.min(scores))/(np.max(scores) - np.min(scores))\n",
    "    \n",
    "    # plot figures\n",
    "    fig = plot_scores_2d(X=X, y_true=y_true, y=y, X_1_mesh=X_1_mesh, X_2_mesh=X_2_mesh, labeled_indices=labeled,\n",
    "                         figsize=figsize, unlabeled_indices=unlabeled, scores=scores, vmin=scores.min(), vmax=scores.max(),\n",
    "                         P=P, fontsize=fontsize,\n",
    "                         filename='../../plots/mapal-m-{}-b-{}-beta_0-{}'.format(m_max, b, beta_0), cbar_label='inst. utility values')\n",
    "    \n",
    "    fig = plot_scores_2d(X=X, y_true=y_true, y=y, X_1_mesh=X_1_mesh, X_2_mesh=X_2_mesh, labeled_indices=labeled,\n",
    "                         figsize=figsize, unlabeled_indices=unlabeled, scores=scores_bam, vmin=0, vmax=1,\n",
    "                         P=P_annnotators, fontsize=fontsize, filename='../../plots/bam-m-{}-b-{}-beta_0-{}'.format(m_max, b, beta_0), cbar_label='annot. perf. values')"
   ]
  },
  {
   "cell_type": "markdown",
   "metadata": {
    "pycharm": {
     "name": "#%% md\n"
    }
   },
   "source": [
    "## Beta Annotator Model (BAM)"
   ]
  },
  {
   "cell_type": "code",
   "execution_count": null,
   "metadata": {
    "collapsed": false,
    "jupyter": {
     "outputs_hidden": false
    },
    "pycharm": {
     "is_executing": false,
     "name": "#%%\n"
    }
   },
   "outputs": [],
   "source": [
    "data_set_name = 'example-data-set-x'\n",
    "figsize = (24, 12)\n",
    "X, y_true, y, X_1_mesh, X_2_mesh, mesh_instances, gamma = preprocess_2d_data_set(data_set_name=data_set_name)\n",
    "y_copy = np.full(y.shape, np.nan)\n",
    "n_samples = len(X)\n",
    "n_classes = len(np.unique(y_true))\n",
    "n_annotators = y.shape[1]\n",
    "S = pairwise_kernels(X, X, metric='rbf', gamma=gamma)\n",
    "S_mesh = pairwise_kernels(mesh_instances, X, metric='rbf', gamma=gamma)\n",
    "sum_priors = {'1': 1.0, '0.1': 0.1, '0.01': 0.01, '0.001': 0.001, '0.0001': 0.0001, '0.00001': 0.00001}\n",
    "prior_mean = 1\n",
    "prior = np.array([prior_mean, 1 - prior_mean])\n",
    "\n",
    "for sum_name, sum_prior in sum_priors.items():\n",
    "    np.random.seed(0)\n",
    "    prior_s = prior * sum_prior\n",
    "    labeled = []\n",
    "    unlabeled = []\n",
    "    P = []\n",
    "    for a in range(n_annotators):    \n",
    "        unlabeled_indices = np.arange(len(X), dtype=int)\n",
    "        labeled_indices = np.random.choice(unlabeled_indices, replace=False, size=20)\n",
    "        np.delete(unlabeled_indices, labeled_indices)\n",
    "        y_copy[labeled_indices, a] = y[labeled_indices, a]\n",
    "        labeled.append(labeled_indices)\n",
    "        unlabeled.append(unlabeled_indices)\n",
    "        \n",
    "        \n",
    "    bam = BAM(n_classes=n_classes, metric='rbf', gamma=gamma, prior=prior_s, random_state=1)\n",
    "    bam.fit(X=X, y=y_copy)\n",
    "    scores_mesh = bam.predict_proba(mesh_instances).T[0]\n",
    "    scores = []\n",
    "    for a in range(n_annotators):\n",
    "        scores.append(scores_mesh[:, a].reshape(X_1_mesh.shape))\n",
    "        mask = list(range(n_annotators))\n",
    "        mask.remove(a)\n",
    "        Z = compute_vote_vectors(y=y_copy[:, mask],  n_unique_votes=n_classes)\n",
    "        P_a = (S_mesh @ Z)\n",
    "        P_a /= np.sum(P_a, axis=1, keepdims=True)\n",
    "        P_a = P_a[:, 0].reshape(X_1_mesh.shape)\n",
    "        P.append(P_a)\n",
    "        \n",
    "    \n",
    "    fig = plot_scores_2d(X=X, y_true=y_true, y=y, X_1_mesh=X_1_mesh, X_2_mesh=X_2_mesh, labeled_indices=labeled,\n",
    "                         figsize=figsize, unlabeled_indices=unlabeled, scores=scores, vmin=0, vmax=1,\n",
    "                         P=P, fontsize=30, filename='../../plots/bam_{}'.format(sum_name), filetype='svg',\n",
    "                         cbar_label='annot. perf. values')"
   ]
  }
 ],
 "metadata": {
  "kernelspec": {
   "display_name": "Python 3",
   "language": "python",
   "name": "python3"
  },
  "language_info": {
   "codemirror_mode": {
    "name": "ipython",
    "version": 3
   },
   "file_extension": ".py",
   "mimetype": "text/x-python",
   "name": "python",
   "nbconvert_exporter": "python",
   "pygments_lexer": "ipython3",
   "version": "3.7.6"
  },
  "pycharm": {
   "stem_cell": {
    "cell_type": "raw",
    "metadata": {
     "collapsed": false
    },
    "source": []
   }
  }
 },
 "nbformat": 4,
 "nbformat_minor": 4
}
