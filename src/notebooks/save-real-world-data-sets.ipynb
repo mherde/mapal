{
 "cells": [
  {
   "cell_type": "markdown",
   "metadata": {},
   "source": [
    "# Load and Save Data Sets Labeled by Multiple Human Annotators"
   ]
  },
  {
   "cell_type": "code",
   "execution_count": 1,
   "metadata": {
    "pycharm": {
     "is_executing": false
    }
   },
   "outputs": [],
   "source": [
    "import numpy as np\n",
    "import pandas as pd\n",
    "\n",
    "from scipy.io import arff\n",
    "from scipy.stats import mode\n",
    "\n",
    "from sklearn.preprocessing import LabelEncoder"
   ]
  },
  {
   "cell_type": "markdown",
   "metadata": {},
   "source": [
    "## Two datasets of defect reports labeled by a crowd of annotators of unknown reliability\n",
    "\n",
    "### Resource: https://www.sciencedirect.com/science/article/pii/S2352340918303226#ec0005"
   ]
  },
  {
   "cell_type": "code",
   "execution_count": 2,
   "metadata": {
    "pycharm": {
     "is_executing": false
    }
   },
   "outputs": [],
   "source": [
    "data = arff.loadarff('../../data/reports-mozilla.arff')\n",
    "df = pd.DataFrame(data[0]).values\n",
    "X = df[:, 5:]\n",
    "Y = df[:, :5]\n",
    "replace_ids = ~np.isin(Y, [b'Installability', b'Maintenance', b'Reliability'])\n",
    "Y[replace_ids] = b'Other'\n",
    "le = LabelEncoder().fit([b'Installability', b'Maintenance', b'Reliability', b'Other'])\n",
    "Y = np.array([le.transform(Y[:, i]) for i in range(5)]).T\n",
    "y = mode(Y, axis=1)[0].ravel()\n",
    "df_new = {'x_{}'.format(i): X[:, i] for i in range(X.shape[1])}\n",
    "for i in range(Y.shape[1]):\n",
    "    df_new['y_{}'.format(i)] = Y[:, i]\n",
    "df_new['y'] = y\n",
    "df_new = pd.DataFrame(df_new)\n",
    "#df_new.to_csv('../../data/reports-mozilla.csv', index=False)"
   ]
  },
  {
   "cell_type": "code",
   "execution_count": 3,
   "metadata": {
    "pycharm": {
     "is_executing": false
    }
   },
   "outputs": [],
   "source": [
    "data = arff.loadarff('../../data/reports-compendium.arff')\n",
    "df = pd.DataFrame(data[0]).values\n",
    "X = df[:, 6:]\n",
    "Y = df[:, 1:6]\n",
    "replace_ids = ~np.isin(Y, [b'Installability', b'Requirements', b'Usability'])\n",
    "Y[replace_ids] = b'Other'\n",
    "le = LabelEncoder().fit([b'Installability', b'Requirements', b'Usability', b'Other'])\n",
    "Y = np.array([le.transform(Y[:, i]) for i in range(5)]).T\n",
    "y = mode(Y, axis=1)[0].ravel()\n",
    "df_new = {'x_{}'.format(i): X[:, i] for i in range(X.shape[1])}\n",
    "for i in range(Y.shape[1]):\n",
    "    df_new['y_{}'.format(i)] = Y[:, i]\n",
    "df_new['y'] = y\n",
    "df_new = pd.DataFrame(df_new)\n",
    "#df_new.to_csv('../../data/reports-compendium.csv', index=False)"
   ]
  },
  {
   "cell_type": "markdown",
   "metadata": {},
   "source": [
    "##  Quality Assessment of Digital Colposcopies Data Set \n",
    "\n",
    "### Resource: https://archive.ics.uci.edu/ml/datasets/Quality+Assessment+of+Digital+Colposcopies"
   ]
  },
  {
   "cell_type": "code",
   "execution_count": 4,
   "metadata": {
    "pycharm": {
     "is_executing": false,
     "name": "#%%\n"
    }
   },
   "outputs": [],
   "source": [
    "df = pd.read_csv('../../data/medical.csv')\n",
    "y = df.values[:, -1]\n",
    "Y = df.values[::, 62:-1]\n",
    "X = df.values[:, :62]\n",
    "df_new = {'x_{}'.format(i): X[:, i] for i in range(X.shape[1])}\n",
    "for i in range(Y.shape[1]):\n",
    "    df_new['y_{}'.format(i)] = Y[:, i]\n",
    "df_new['y'] = y\n",
    "df_new = pd.DataFrame(df_new)\n",
    "#df_new.to_csv('../../data/medical.csv', index=False)\n"
   ]
  }
 ],
 "metadata": {
  "kernelspec": {
   "display_name": "Python 3",
   "language": "python",
   "name": "python3"
  },
  "language_info": {
   "codemirror_mode": {
    "name": "ipython",
    "version": 3
   },
   "file_extension": ".py",
   "mimetype": "text/x-python",
   "name": "python",
   "nbconvert_exporter": "python",
   "pygments_lexer": "ipython3",
   "version": "3.7.6"
  },
  "pycharm": {
   "stem_cell": {
    "cell_type": "raw",
    "metadata": {
     "collapsed": false
    },
    "source": []
   }
  }
 },
 "nbformat": 4,
 "nbformat_minor": 4
}
